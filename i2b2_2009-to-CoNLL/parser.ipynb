{
 "cells": [
  {
   "cell_type": "markdown",
   "metadata": {},
   "source": [
    "This file is parsing i2b2 training data and annotating it with the CoNLL BIO scheme, which has this form:"
   ]
  },
  {
   "cell_type": "markdown",
   "metadata": {},
   "source": [
    "[word] [POS tag] [chunk tag] [NER tag]"
   ]
  },
  {
   "cell_type": "code",
   "execution_count": 1,
   "metadata": {},
   "outputs": [],
   "source": [
    "__author__ = \"Maximilian Hofer\"\n",
    "__copyright__ = \"Copyright 2018\"\n",
    "__license__ = \"MIT\""
   ]
  },
  {
   "cell_type": "code",
   "execution_count": 2,
   "metadata": {},
   "outputs": [],
   "source": [
    "import os\n",
    "from nltk import pos_tag, RegexpParser\n",
    "import pandas as pd\n",
    "import numpy as np"
   ]
  },
  {
   "cell_type": "code",
   "execution_count": 3,
   "metadata": {},
   "outputs": [],
   "source": [
    "import os\n",
    "\n",
    "files = os.listdir(\"./data/annotations\")\n",
    "for f in files:\n",
    "    newname = f.split('.')[0]\n",
    "    os.rename(os.path.join(\"./data/annotations\",f), os.path.join(\"./data/annotations\",newname))"
   ]
  },
  {
   "cell_type": "code",
   "execution_count": 4,
   "metadata": {},
   "outputs": [
    {
     "name": "stdout",
     "output_type": "stream",
     "text": [
      "Success: all anotations have a corresponding entry. 251\n"
     ]
    }
   ],
   "source": [
    "a_ids = []\n",
    "e_ids = []\n",
    "\n",
    "for filename in os.listdir(\"./data/annotations\"):\n",
    "    if filename[0] != \".\":  # ignore hidden files\n",
    "        a_ids.append(int(filename))\n",
    "for filename in os.listdir(\"./data/entries\"):\n",
    "    if filename[0] != \".\": \n",
    "        e_ids.append(int(filename))\n",
    "    \n",
    "a_ids = tuple(sorted(a_ids)) \n",
    "e_ids = tuple(sorted(a_ids))\n",
    "\n",
    "intersection = list(set(a_ids) & set(e_ids))\n",
    "if len(intersection) == len(a_ids):\n",
    "    print(\"Success: all anotations have a corresponding entry.\", len(intersection))"
   ]
  },
  {
   "cell_type": "markdown",
   "metadata": {},
   "source": [
    "## Build corpora"
   ]
  },
  {
   "cell_type": "code",
   "execution_count": 5,
   "metadata": {},
   "outputs": [],
   "source": [
    "# build annotation and entry corpora\n",
    "\n",
    "a_corpus = []\n",
    "e_corpus = []\n",
    "\n",
    "# only annotations and corresponding files\n",
    "for file in a_ids:\n",
    "    path = \"./data/annotations/\" + str(file)\n",
    "    with open(path) as f:\n",
    "        content = f.read().splitlines()\n",
    "        a_corpus.append(content)\n",
    "\n",
    "    path = \"./data/entries/\" + str(file)\n",
    "    with open(path) as f:\n",
    "        #content = f.readlines()\n",
    "        content = f.read().splitlines()\n",
    "        e_corpus.append(content)\n",
    "    "
   ]
  },
  {
   "cell_type": "markdown",
   "metadata": {},
   "source": [
    "## Set up dataframe"
   ]
  },
  {
   "cell_type": "code",
   "execution_count": 6,
   "metadata": {},
   "outputs": [],
   "source": [
    "#  [\"id\", \"row\", \"offset\", \"word\", \"POS\", \"chunk\", \"NER\"]\n",
    "entries_cols = [\"id\", \"row\", \"offset\", \"word\"]\n",
    "entries_df = pd.DataFrame(columns=entries_cols)"
   ]
  },
  {
   "cell_type": "code",
   "execution_count": 7,
   "metadata": {},
   "outputs": [
    {
     "data": {
      "text/html": [
       "<div>\n",
       "<style>\n",
       "    .dataframe thead tr:only-child th {\n",
       "        text-align: right;\n",
       "    }\n",
       "\n",
       "    .dataframe thead th {\n",
       "        text-align: left;\n",
       "    }\n",
       "\n",
       "    .dataframe tbody tr th {\n",
       "        vertical-align: top;\n",
       "    }\n",
       "</style>\n",
       "<table border=\"1\" class=\"dataframe\">\n",
       "  <thead>\n",
       "    <tr style=\"text-align: right;\">\n",
       "      <th></th>\n",
       "      <th>id</th>\n",
       "      <th>row</th>\n",
       "      <th>offset</th>\n",
       "      <th>word</th>\n",
       "    </tr>\n",
       "  </thead>\n",
       "  <tbody>\n",
       "  </tbody>\n",
       "</table>\n",
       "</div>"
      ],
      "text/plain": [
       "Empty DataFrame\n",
       "Columns: [id, row, offset, word]\n",
       "Index: []"
      ]
     },
     "execution_count": 7,
     "metadata": {},
     "output_type": "execute_result"
    }
   ],
   "source": [
    "entries_df.head()"
   ]
  },
  {
   "cell_type": "code",
   "execution_count": 8,
   "metadata": {},
   "outputs": [],
   "source": [
    "annotations_cols = [\"id\", \"NER_tag\", \"row\", \"offset\", \"length\"]\n",
    "annotations_df = pd.DataFrame(columns=annotations_cols)"
   ]
  },
  {
   "cell_type": "code",
   "execution_count": 9,
   "metadata": {},
   "outputs": [
    {
     "data": {
      "text/html": [
       "<div>\n",
       "<style>\n",
       "    .dataframe thead tr:only-child th {\n",
       "        text-align: right;\n",
       "    }\n",
       "\n",
       "    .dataframe thead th {\n",
       "        text-align: left;\n",
       "    }\n",
       "\n",
       "    .dataframe tbody tr th {\n",
       "        vertical-align: top;\n",
       "    }\n",
       "</style>\n",
       "<table border=\"1\" class=\"dataframe\">\n",
       "  <thead>\n",
       "    <tr style=\"text-align: right;\">\n",
       "      <th></th>\n",
       "      <th>id</th>\n",
       "      <th>NER_tag</th>\n",
       "      <th>row</th>\n",
       "      <th>offset</th>\n",
       "      <th>length</th>\n",
       "    </tr>\n",
       "  </thead>\n",
       "  <tbody>\n",
       "  </tbody>\n",
       "</table>\n",
       "</div>"
      ],
      "text/plain": [
       "Empty DataFrame\n",
       "Columns: [id, NER_tag, row, offset, length]\n",
       "Index: []"
      ]
     },
     "execution_count": 9,
     "metadata": {},
     "output_type": "execute_result"
    }
   ],
   "source": [
    "annotations_df.head()"
   ]
  },
  {
   "cell_type": "markdown",
   "metadata": {},
   "source": [
    "## Number of annotations"
   ]
  },
  {
   "cell_type": "code",
   "execution_count": 10,
   "metadata": {},
   "outputs": [
    {
     "name": "stdout",
     "output_type": "stream",
     "text": [
      "Medication annotations:  8942\n",
      "Dosage annotations:  4460\n",
      "Mode annotations:  3387\n",
      "Frequency annotations:  4039\n",
      "Duration annotations:  553\n",
      "Reason annotations:  1637\n"
     ]
    }
   ],
   "source": [
    "med_count = 0\n",
    "dosage_count = 0\n",
    "mode_count = 0\n",
    "freq_count = 0\n",
    "dur_count = 0\n",
    "reason_count = 0\n",
    "\n",
    "for document in a_corpus:\n",
    "    for line in document:\n",
    "        if \"m=\\\"nm\\\"\" not in line:\n",
    "            med_count += 1\n",
    "        if \"do=\\\"nm\\\"\" not in line:\n",
    "            dosage_count += 1\n",
    "        if \"mo=\\\"nm\\\"\" not in line:\n",
    "            mode_count += 1\n",
    "        if \"f=\\\"nm\\\"\" not in line:\n",
    "            freq_count += 1\n",
    "        if \"du=\\\"nm\\\"\" not in line:\n",
    "            dur_count += 1\n",
    "        if \"r=\\\"nm\\\"\" not in line:\n",
    "            reason_count += 1\n",
    "        \n",
    "print(\"Medication annotations: \", med_count)\n",
    "print(\"Dosage annotations: \", dosage_count)\n",
    "print(\"Mode annotations: \", mode_count)\n",
    "print(\"Frequency annotations: \", freq_count)\n",
    "print(\"Duration annotations: \", dur_count)\n",
    "print(\"Reason annotations: \", reason_count)\n"
   ]
  },
  {
   "cell_type": "markdown",
   "metadata": {},
   "source": [
    "## Build annotations data frame"
   ]
  },
  {
   "cell_type": "code",
   "execution_count": 11,
   "metadata": {},
   "outputs": [],
   "source": [
    "annotations_df = pd.DataFrame(columns=annotations_cols)  # reset df\n",
    "tmp_list = []\n",
    "\n",
    "for i, document in enumerate(a_corpus):\n",
    "    \n",
    "    for row in document:\n",
    "        row = row.split(\"||\")\n",
    "        # print(row, \"\\n\")\n",
    "        \n",
    "        for tag in row: \n",
    "            # print(tag)\n",
    "            tag = tag.split(\"=\")\n",
    "            if \":\" in tag[1]:\n",
    "                tag_label = tag[0].lstrip(\" \")\n",
    "                tag_row_a = tag[1].split(\" \")[-2:][0].split(\":\")[0]\n",
    "                tag_row_b = tag[1].split(\" \")[-2:][1].split(\":\")[0]\n",
    "                \n",
    "                # some annotations have non-standard formatting (losing 64 instances)\n",
    "                try:\n",
    "                    tag_offset_a = int(tag[1].split(\" \")[-2:][0].split(\":\")[1])\n",
    "                    tag_offset_b = int(tag[1].split(\" \")[-2:][1].split(\":\")[1])\n",
    "                    length = tag_offset_b - tag_offset_a + 1\n",
    "                    \n",
    "                    # 1 row = 1 token with a tag\n",
    "                    first = True\n",
    "                    BIO_tag = \"B-\"\n",
    "                    if length > 1 and tag_row_a == tag_row_b:\n",
    "                        for offset in range(tag_offset_a, tag_offset_b+1):\n",
    "                            if first: \n",
    "                                tag_label = BIO_tag + tag_label\n",
    "                                first = False\n",
    "                            else:\n",
    "                                tag_label = tag_label.replace(\"B-\", \"I-\")\n",
    "                            tmp_list.append([a_ids[i], tag_label, tag_row_a, offset, 1])\n",
    "                    # TODO: tags over line breaks\n",
    "                    else:\n",
    "                        tmp_list.append([a_ids[i], BIO_tag + tag_label, tag_row_a, tag_offset_a, length])\n",
    "                except:\n",
    "                    pass             \n",
    "\n",
    "annotations_df = pd.DataFrame(tmp_list, columns=annotations_cols)\n",
    "annotations_df.reset_index(inplace=True)\n",
    "                        "
   ]
  },
  {
   "cell_type": "code",
   "execution_count": 12,
   "metadata": {},
   "outputs": [
    {
     "data": {
      "text/plain": [
       "(35630, 4)"
      ]
     },
     "execution_count": 12,
     "metadata": {},
     "output_type": "execute_result"
    }
   ],
   "source": [
    "annotations_df = annotations_df.drop([\"index\", \"length\"],axis=1)\n",
    "annotations_df.shape"
   ]
  },
  {
   "cell_type": "code",
   "execution_count": 13,
   "metadata": {
    "scrolled": true
   },
   "outputs": [
    {
     "data": {
      "text/html": [
       "<div>\n",
       "<style>\n",
       "    .dataframe thead tr:only-child th {\n",
       "        text-align: right;\n",
       "    }\n",
       "\n",
       "    .dataframe thead th {\n",
       "        text-align: left;\n",
       "    }\n",
       "\n",
       "    .dataframe tbody tr th {\n",
       "        vertical-align: top;\n",
       "    }\n",
       "</style>\n",
       "<table border=\"1\" class=\"dataframe\">\n",
       "  <thead>\n",
       "    <tr style=\"text-align: right;\">\n",
       "      <th></th>\n",
       "      <th>id</th>\n",
       "      <th>NER_tag</th>\n",
       "      <th>row</th>\n",
       "      <th>offset</th>\n",
       "    </tr>\n",
       "  </thead>\n",
       "  <tbody>\n",
       "    <tr>\n",
       "      <th>0</th>\n",
       "      <td>661</td>\n",
       "      <td>B-m</td>\n",
       "      <td>16</td>\n",
       "      <td>0</td>\n",
       "    </tr>\n",
       "    <tr>\n",
       "      <th>1</th>\n",
       "      <td>661</td>\n",
       "      <td>I-m</td>\n",
       "      <td>16</td>\n",
       "      <td>1</td>\n",
       "    </tr>\n",
       "    <tr>\n",
       "      <th>2</th>\n",
       "      <td>661</td>\n",
       "      <td>B-do</td>\n",
       "      <td>16</td>\n",
       "      <td>2</td>\n",
       "    </tr>\n",
       "    <tr>\n",
       "      <th>3</th>\n",
       "      <td>661</td>\n",
       "      <td>I-do</td>\n",
       "      <td>16</td>\n",
       "      <td>3</td>\n",
       "    </tr>\n",
       "    <tr>\n",
       "      <th>4</th>\n",
       "      <td>661</td>\n",
       "      <td>B-mo</td>\n",
       "      <td>16</td>\n",
       "      <td>4</td>\n",
       "    </tr>\n",
       "  </tbody>\n",
       "</table>\n",
       "</div>"
      ],
      "text/plain": [
       "    id NER_tag row  offset\n",
       "0  661     B-m  16       0\n",
       "1  661     I-m  16       1\n",
       "2  661    B-do  16       2\n",
       "3  661    I-do  16       3\n",
       "4  661    B-mo  16       4"
      ]
     },
     "execution_count": 13,
     "metadata": {},
     "output_type": "execute_result"
    }
   ],
   "source": [
    "annotations_df.head()"
   ]
  },
  {
   "cell_type": "code",
   "execution_count": 14,
   "metadata": {},
   "outputs": [
    {
     "data": {
      "text/html": [
       "<div>\n",
       "<style>\n",
       "    .dataframe thead tr:only-child th {\n",
       "        text-align: right;\n",
       "    }\n",
       "\n",
       "    .dataframe thead th {\n",
       "        text-align: left;\n",
       "    }\n",
       "\n",
       "    .dataframe tbody tr th {\n",
       "        vertical-align: top;\n",
       "    }\n",
       "</style>\n",
       "<table border=\"1\" class=\"dataframe\">\n",
       "  <thead>\n",
       "    <tr style=\"text-align: right;\">\n",
       "      <th></th>\n",
       "      <th>id</th>\n",
       "      <th>row</th>\n",
       "      <th>offset</th>\n",
       "      <th>word</th>\n",
       "    </tr>\n",
       "  </thead>\n",
       "  <tbody>\n",
       "  </tbody>\n",
       "</table>\n",
       "</div>"
      ],
      "text/plain": [
       "Empty DataFrame\n",
       "Columns: [id, row, offset, word]\n",
       "Index: []"
      ]
     },
     "execution_count": 14,
     "metadata": {},
     "output_type": "execute_result"
    }
   ],
   "source": [
    "entries_df.head()"
   ]
  },
  {
   "cell_type": "code",
   "execution_count": 15,
   "metadata": {},
   "outputs": [
    {
     "data": {
      "text/plain": [
       "['RECORD', '#661']"
      ]
     },
     "execution_count": 15,
     "metadata": {},
     "output_type": "execute_result"
    }
   ],
   "source": [
    "e_corpus[0][0].split(\" \")"
   ]
  },
  {
   "cell_type": "markdown",
   "metadata": {},
   "source": [
    "## Build entries data frame"
   ]
  },
  {
   "cell_type": "raw",
   "metadata": {},
   "source": [
    "List of token modifications:\n",
    "    - \"|\": ignored\n",
    "    - \".\" removed from end of token"
   ]
  },
  {
   "cell_type": "code",
   "execution_count": 16,
   "metadata": {},
   "outputs": [],
   "source": [
    "entries_df = pd.DataFrame(columns=entries_cols)  # reset df\n",
    "tmp_list = []\n",
    "\n",
    "for doc_i, document in enumerate(e_corpus):\n",
    "    \n",
    "    tmp_list.append([0, 0, 0, \"-DOCSTART-\"])\n",
    "    tmp_list.append([0, 0, 0, \"-EMPTYLINE-\"])\n",
    "    \n",
    "    for row_i, row in enumerate(document):\n",
    "        row_split = row.split(\" \")\n",
    "        for word_i, word in enumerate(row_split):\n",
    "            word = word.rstrip(\".\")  # strip \".\" from end of word\n",
    "            word = word.replace(\"\\t\", \"\")\n",
    "            word_id = a_ids[doc_i]\n",
    "            word_row = row_i+1  # 1-based indexing \n",
    "            word_offset = word_i # 0-based indexing\n",
    "            \n",
    "            if len(word) > 0 and \"|\" not in word:\n",
    "                tmp_list.append([word_id, word_row, word_offset, word])\n",
    "        \n",
    "    tmp_list.append([0, 0, 0, \"-EMPTYLINE-\"])\n",
    "\n",
    "entries_df = pd.DataFrame(tmp_list, columns=entries_cols)\n"
   ]
  },
  {
   "cell_type": "code",
   "execution_count": 17,
   "metadata": {
    "scrolled": true
   },
   "outputs": [
    {
     "data": {
      "text/html": [
       "<div>\n",
       "<style>\n",
       "    .dataframe thead tr:only-child th {\n",
       "        text-align: right;\n",
       "    }\n",
       "\n",
       "    .dataframe thead th {\n",
       "        text-align: left;\n",
       "    }\n",
       "\n",
       "    .dataframe tbody tr th {\n",
       "        vertical-align: top;\n",
       "    }\n",
       "</style>\n",
       "<table border=\"1\" class=\"dataframe\">\n",
       "  <thead>\n",
       "    <tr style=\"text-align: right;\">\n",
       "      <th></th>\n",
       "      <th>id</th>\n",
       "      <th>row</th>\n",
       "      <th>offset</th>\n",
       "      <th>word</th>\n",
       "    </tr>\n",
       "  </thead>\n",
       "  <tbody>\n",
       "    <tr>\n",
       "      <th>0</th>\n",
       "      <td>0</td>\n",
       "      <td>0</td>\n",
       "      <td>0</td>\n",
       "      <td>-DOCSTART-</td>\n",
       "    </tr>\n",
       "    <tr>\n",
       "      <th>1</th>\n",
       "      <td>0</td>\n",
       "      <td>0</td>\n",
       "      <td>0</td>\n",
       "      <td>-EMPTYLINE-</td>\n",
       "    </tr>\n",
       "    <tr>\n",
       "      <th>2</th>\n",
       "      <td>661</td>\n",
       "      <td>1</td>\n",
       "      <td>0</td>\n",
       "      <td>RECORD</td>\n",
       "    </tr>\n",
       "    <tr>\n",
       "      <th>3</th>\n",
       "      <td>661</td>\n",
       "      <td>1</td>\n",
       "      <td>1</td>\n",
       "      <td>#661</td>\n",
       "    </tr>\n",
       "    <tr>\n",
       "      <th>4</th>\n",
       "      <td>661</td>\n",
       "      <td>2</td>\n",
       "      <td>0</td>\n",
       "      <td>753455514</td>\n",
       "    </tr>\n",
       "  </tbody>\n",
       "</table>\n",
       "</div>"
      ],
      "text/plain": [
       "    id  row  offset         word\n",
       "0    0    0       0   -DOCSTART-\n",
       "1    0    0       0  -EMPTYLINE-\n",
       "2  661    1       0       RECORD\n",
       "3  661    1       1         #661\n",
       "4  661    2       0    753455514"
      ]
     },
     "execution_count": 17,
     "metadata": {},
     "output_type": "execute_result"
    }
   ],
   "source": [
    "entries_df.head()"
   ]
  },
  {
   "cell_type": "code",
   "execution_count": 18,
   "metadata": {
    "scrolled": true
   },
   "outputs": [
    {
     "data": {
      "text/html": [
       "<div>\n",
       "<style>\n",
       "    .dataframe thead tr:only-child th {\n",
       "        text-align: right;\n",
       "    }\n",
       "\n",
       "    .dataframe thead th {\n",
       "        text-align: left;\n",
       "    }\n",
       "\n",
       "    .dataframe tbody tr th {\n",
       "        vertical-align: top;\n",
       "    }\n",
       "</style>\n",
       "<table border=\"1\" class=\"dataframe\">\n",
       "  <thead>\n",
       "    <tr style=\"text-align: right;\">\n",
       "      <th></th>\n",
       "      <th>id</th>\n",
       "      <th>NER_tag</th>\n",
       "      <th>row</th>\n",
       "      <th>offset</th>\n",
       "    </tr>\n",
       "  </thead>\n",
       "  <tbody>\n",
       "    <tr>\n",
       "      <th>0</th>\n",
       "      <td>661</td>\n",
       "      <td>B-m</td>\n",
       "      <td>16</td>\n",
       "      <td>0</td>\n",
       "    </tr>\n",
       "    <tr>\n",
       "      <th>1</th>\n",
       "      <td>661</td>\n",
       "      <td>I-m</td>\n",
       "      <td>16</td>\n",
       "      <td>1</td>\n",
       "    </tr>\n",
       "    <tr>\n",
       "      <th>2</th>\n",
       "      <td>661</td>\n",
       "      <td>B-do</td>\n",
       "      <td>16</td>\n",
       "      <td>2</td>\n",
       "    </tr>\n",
       "    <tr>\n",
       "      <th>3</th>\n",
       "      <td>661</td>\n",
       "      <td>I-do</td>\n",
       "      <td>16</td>\n",
       "      <td>3</td>\n",
       "    </tr>\n",
       "    <tr>\n",
       "      <th>4</th>\n",
       "      <td>661</td>\n",
       "      <td>B-mo</td>\n",
       "      <td>16</td>\n",
       "      <td>4</td>\n",
       "    </tr>\n",
       "  </tbody>\n",
       "</table>\n",
       "</div>"
      ],
      "text/plain": [
       "    id NER_tag row  offset\n",
       "0  661     B-m  16       0\n",
       "1  661     I-m  16       1\n",
       "2  661    B-do  16       2\n",
       "3  661    I-do  16       3\n",
       "4  661    B-mo  16       4"
      ]
     },
     "execution_count": 18,
     "metadata": {},
     "output_type": "execute_result"
    }
   ],
   "source": [
    "annotations_df.head()"
   ]
  },
  {
   "cell_type": "code",
   "execution_count": 19,
   "metadata": {},
   "outputs": [
    {
     "name": "stdout",
     "output_type": "stream",
     "text": [
      "22955 named entities\n"
     ]
    }
   ],
   "source": [
    "ner_counter = [1 for i in annotations_df[\"NER_tag\"] if \"B-\" in i]\n",
    "print(len(ner_counter), \"named entities\")"
   ]
  },
  {
   "cell_type": "markdown",
   "metadata": {},
   "source": [
    "## Joing entries and annotations"
   ]
  },
  {
   "cell_type": "code",
   "execution_count": 20,
   "metadata": {},
   "outputs": [],
   "source": [
    "# ensure correct dtypes\n",
    "annotations_df[['id', 'row', 'offset']] = annotations_df[['id', 'row', 'offset']].apply(pd.to_numeric)\n",
    "annotations_df['NER_tag'] = annotations_df[\"NER_tag\"].astype(str)\n",
    "entries_df[['id', 'row', 'offset']] = entries_df[['id', 'row', 'offset']].apply(pd.to_numeric)\n",
    "entries_df[\"word\"] = entries_df[\"word\"].astype(str)\n"
   ]
  },
  {
   "cell_type": "code",
   "execution_count": 21,
   "metadata": {},
   "outputs": [],
   "source": [
    "result_df = pd.merge(entries_df, annotations_df, how=\"left\", on=['id', 'row', 'offset'])"
   ]
  },
  {
   "cell_type": "code",
   "execution_count": 22,
   "metadata": {
    "scrolled": true
   },
   "outputs": [
    {
     "name": "stdout",
     "output_type": "stream",
     "text": [
      "columns with missing data:\n",
      " id         False\n",
      "row        False\n",
      "offset     False\n",
      "word       False\n",
      "NER_tag     True\n",
      "dtype: bool\n"
     ]
    }
   ],
   "source": [
    "# replace NaNs with \"O\"\n",
    "print(\"columns with missing data:\\n\", result_df.isnull().any())\n",
    "result_df = result_df.fillna(\"O\")"
   ]
  },
  {
   "cell_type": "code",
   "execution_count": 23,
   "metadata": {},
   "outputs": [
    {
     "name": "stdout",
     "output_type": "stream",
     "text": [
      "columns with missing data:\n",
      " id         False\n",
      "row        False\n",
      "offset     False\n",
      "word       False\n",
      "NER_tag    False\n",
      "dtype: bool\n"
     ]
    }
   ],
   "source": [
    "print(\"columns with missing data:\\n\", result_df.isnull().any())"
   ]
  },
  {
   "cell_type": "code",
   "execution_count": 24,
   "metadata": {},
   "outputs": [
    {
     "data": {
      "text/html": [
       "<div>\n",
       "<style>\n",
       "    .dataframe thead tr:only-child th {\n",
       "        text-align: right;\n",
       "    }\n",
       "\n",
       "    .dataframe thead th {\n",
       "        text-align: left;\n",
       "    }\n",
       "\n",
       "    .dataframe tbody tr th {\n",
       "        vertical-align: top;\n",
       "    }\n",
       "</style>\n",
       "<table border=\"1\" class=\"dataframe\">\n",
       "  <thead>\n",
       "    <tr style=\"text-align: right;\">\n",
       "      <th></th>\n",
       "      <th>word</th>\n",
       "      <th>NER_tag</th>\n",
       "    </tr>\n",
       "  </thead>\n",
       "  <tbody>\n",
       "    <tr>\n",
       "      <th>0</th>\n",
       "      <td>-DOCSTART-</td>\n",
       "      <td>O</td>\n",
       "    </tr>\n",
       "    <tr>\n",
       "      <th>1</th>\n",
       "      <td>-EMPTYLINE-</td>\n",
       "      <td>O</td>\n",
       "    </tr>\n",
       "    <tr>\n",
       "      <th>2</th>\n",
       "      <td>RECORD</td>\n",
       "      <td>O</td>\n",
       "    </tr>\n",
       "    <tr>\n",
       "      <th>3</th>\n",
       "      <td>#661</td>\n",
       "      <td>O</td>\n",
       "    </tr>\n",
       "    <tr>\n",
       "      <th>4</th>\n",
       "      <td>753455514</td>\n",
       "      <td>O</td>\n",
       "    </tr>\n",
       "  </tbody>\n",
       "</table>\n",
       "</div>"
      ],
      "text/plain": [
       "          word NER_tag\n",
       "0   -DOCSTART-       O\n",
       "1  -EMPTYLINE-       O\n",
       "2       RECORD       O\n",
       "3         #661       O\n",
       "4    753455514       O"
      ]
     },
     "execution_count": 24,
     "metadata": {},
     "output_type": "execute_result"
    }
   ],
   "source": [
    "result_df = result_df.drop([\"id\", \"row\", \"offset\"],axis=1)\n",
    "result_df.head()"
   ]
  },
  {
   "cell_type": "code",
   "execution_count": 25,
   "metadata": {},
   "outputs": [
    {
     "data": {
      "text/plain": [
       "(284392, 2)"
      ]
     },
     "execution_count": 25,
     "metadata": {},
     "output_type": "execute_result"
    }
   ],
   "source": [
    "result_df.shape"
   ]
  },
  {
   "cell_type": "code",
   "execution_count": 26,
   "metadata": {},
   "outputs": [
    {
     "name": "stdout",
     "output_type": "stream",
     "text": [
      "22949 named entities\n"
     ]
    }
   ],
   "source": [
    "# 71 fewer annotations than expected as annotations over line breaks are not included\n",
    "ner_counter = [1 for i in result_df[\"NER_tag\"] if \"B-\" in i]\n",
    "print(len(ner_counter), \"named entities\")"
   ]
  },
  {
   "cell_type": "markdown",
   "metadata": {},
   "source": [
    "# POS tagger"
   ]
  },
  {
   "cell_type": "code",
   "execution_count": 27,
   "metadata": {},
   "outputs": [],
   "source": [
    "from nltk.chunk.regexp import RegexpChunkParser, ChunkRule, RegexpParser\n",
    "from nltk.tree import Tree"
   ]
  },
  {
   "cell_type": "code",
   "execution_count": 28,
   "metadata": {},
   "outputs": [],
   "source": [
    "text = result_df[\"word\"].tolist()\n",
    "text_pos = pos_tag(text)\n",
    "text_pos_list = [i[1] for i in text_pos]"
   ]
  },
  {
   "cell_type": "code",
   "execution_count": 29,
   "metadata": {},
   "outputs": [
    {
     "data": {
      "text/plain": [
       "284392"
      ]
     },
     "execution_count": 29,
     "metadata": {},
     "output_type": "execute_result"
    }
   ],
   "source": [
    "len(text_pos_list)"
   ]
  },
  {
   "cell_type": "code",
   "execution_count": 30,
   "metadata": {},
   "outputs": [
    {
     "data": {
      "text/plain": [
       "Index(['word', 'NER_tag'], dtype='object')"
      ]
     },
     "execution_count": 30,
     "metadata": {},
     "output_type": "execute_result"
    }
   ],
   "source": [
    "result_df.columns"
   ]
  },
  {
   "cell_type": "code",
   "execution_count": 31,
   "metadata": {},
   "outputs": [],
   "source": [
    "result_df[\"POS_tag\"] = text_pos_list"
   ]
  },
  {
   "cell_type": "code",
   "execution_count": 32,
   "metadata": {},
   "outputs": [
    {
     "data": {
      "text/html": [
       "<div>\n",
       "<style>\n",
       "    .dataframe thead tr:only-child th {\n",
       "        text-align: right;\n",
       "    }\n",
       "\n",
       "    .dataframe thead th {\n",
       "        text-align: left;\n",
       "    }\n",
       "\n",
       "    .dataframe tbody tr th {\n",
       "        vertical-align: top;\n",
       "    }\n",
       "</style>\n",
       "<table border=\"1\" class=\"dataframe\">\n",
       "  <thead>\n",
       "    <tr style=\"text-align: right;\">\n",
       "      <th></th>\n",
       "      <th>word</th>\n",
       "      <th>NER_tag</th>\n",
       "      <th>POS_tag</th>\n",
       "    </tr>\n",
       "  </thead>\n",
       "  <tbody>\n",
       "    <tr>\n",
       "      <th>0</th>\n",
       "      <td>-DOCSTART-</td>\n",
       "      <td>O</td>\n",
       "      <td>JJ</td>\n",
       "    </tr>\n",
       "    <tr>\n",
       "      <th>1</th>\n",
       "      <td>-EMPTYLINE-</td>\n",
       "      <td>O</td>\n",
       "      <td>NN</td>\n",
       "    </tr>\n",
       "    <tr>\n",
       "      <th>2</th>\n",
       "      <td>RECORD</td>\n",
       "      <td>O</td>\n",
       "      <td>NNP</td>\n",
       "    </tr>\n",
       "    <tr>\n",
       "      <th>3</th>\n",
       "      <td>#661</td>\n",
       "      <td>O</td>\n",
       "      <td>VBZ</td>\n",
       "    </tr>\n",
       "    <tr>\n",
       "      <th>4</th>\n",
       "      <td>753455514</td>\n",
       "      <td>O</td>\n",
       "      <td>CD</td>\n",
       "    </tr>\n",
       "  </tbody>\n",
       "</table>\n",
       "</div>"
      ],
      "text/plain": [
       "          word NER_tag POS_tag\n",
       "0   -DOCSTART-       O      JJ\n",
       "1  -EMPTYLINE-       O      NN\n",
       "2       RECORD       O     NNP\n",
       "3         #661       O     VBZ\n",
       "4    753455514       O      CD"
      ]
     },
     "execution_count": 32,
     "metadata": {},
     "output_type": "execute_result"
    }
   ],
   "source": [
    "result_df.head()"
   ]
  },
  {
   "cell_type": "markdown",
   "metadata": {},
   "source": [
    "# CoNLL chunk tagger"
   ]
  },
  {
   "cell_type": "code",
   "execution_count": 33,
   "metadata": {},
   "outputs": [],
   "source": [
    "text_test = \"EU rejects German call to boycott British lamb.\".split(\" \")\n",
    "text_pos_test = pos_tag(text_test)"
   ]
  },
  {
   "cell_type": "code",
   "execution_count": 34,
   "metadata": {},
   "outputs": [
    {
     "data": {
      "text/plain": [
       "[('EU', 'NNP'),\n",
       " ('rejects', 'VBZ'),\n",
       " ('German', 'JJ'),\n",
       " ('call', 'NN'),\n",
       " ('to', 'TO'),\n",
       " ('boycott', 'VB'),\n",
       " ('British', 'JJ'),\n",
       " ('lamb.', 'NN')]"
      ]
     },
     "execution_count": 34,
     "metadata": {},
     "output_type": "execute_result"
    }
   ],
   "source": [
    "text_pos_test"
   ]
  },
  {
   "cell_type": "markdown",
   "metadata": {},
   "source": [
    "used for building regex \n",
    "grammar = r\"\"\"\n",
    "    NP: {<DT|PP\\$>?<JJ>*<NN.*>+} # noun phrase\n",
    "    PP: {<IN><NP>}               # prepositional phrase\n",
    "    VP: {<MD>?<VB.*><NP|PP>}     # verb phrase\n",
    "    CLAUSE: {<NP><VP>}           # full clause\n",
    "\"\"\""
   ]
  },
  {
   "cell_type": "markdown",
   "metadata": {},
   "source": [
    "### Noun phrases"
   ]
  },
  {
   "cell_type": "code",
   "execution_count": 35,
   "metadata": {},
   "outputs": [],
   "source": [
    "rule_0 = ChunkRule(\"<DT>?<JJ.*>*<NN.*>+\", \"More complete chunk NP sequences\")\n",
    "\n",
    "chunk_parser_np = RegexpChunkParser([rule_0],chunk_label='NP')\n",
    "\n",
    "chunk_result_tree_np = chunk_parser_np.parse(text_pos)\n"
   ]
  },
  {
   "cell_type": "code",
   "execution_count": 36,
   "metadata": {},
   "outputs": [],
   "source": [
    "chunk_tag_np = []\n",
    "\n",
    "for i in chunk_result_tree_np:\n",
    "    if isinstance(i, Tree):\n",
    "        for j in range(0, len(i)):\n",
    "            if j == 0:\n",
    "                # print(\"B-\" + i.label())\n",
    "                chunk_tag_np.append(\"B-\" + i.label())\n",
    "            else:\n",
    "                chunk_tag_np.append(\"I-\" + i.label())\n",
    "                # print(\"I-\" + i.label())\n",
    "    else:\n",
    "        # print(\"O\")\n",
    "        chunk_tag_np.append(\"O\")\n"
   ]
  },
  {
   "cell_type": "code",
   "execution_count": 37,
   "metadata": {},
   "outputs": [
    {
     "data": {
      "text/plain": [
       "True"
      ]
     },
     "execution_count": 37,
     "metadata": {},
     "output_type": "execute_result"
    }
   ],
   "source": [
    "len(chunk_tag_np) == result_df.shape[0]  # check that chunk col has same length"
   ]
  },
  {
   "cell_type": "markdown",
   "metadata": {},
   "source": [
    "### Verb phrases"
   ]
  },
  {
   "cell_type": "code",
   "execution_count": 38,
   "metadata": {},
   "outputs": [],
   "source": [
    "rule_1 = ChunkRule(\"<VBD|IN|\\.>\", \"Verb phrases\")\n",
    "\n",
    "chunk_parser_vp = RegexpChunkParser([rule_1],chunk_label='VP')\n",
    "\n",
    "chunk_result_tree_vp = chunk_parser_vp.parse(text_pos)"
   ]
  },
  {
   "cell_type": "code",
   "execution_count": 39,
   "metadata": {},
   "outputs": [],
   "source": [
    "chunk_tag_vp = []\n",
    "\n",
    "for i in chunk_result_tree_vp:\n",
    "    if isinstance(i, Tree):\n",
    "        for j in range(0, len(i)):\n",
    "            if j == 0:\n",
    "                # print(\"B-\" + i.label())\n",
    "                chunk_tag_vp.append(\"B-\" + i.label())\n",
    "            else:\n",
    "                chunk_tag_vp.append(\"I-\" + i.label())\n",
    "                # print(\"I-\" + i.label())\n",
    "    else:\n",
    "        # print(\"O\")\n",
    "        chunk_tag_vp.append(\"O\")\n"
   ]
  },
  {
   "cell_type": "code",
   "execution_count": 40,
   "metadata": {},
   "outputs": [
    {
     "data": {
      "text/plain": [
       "True"
      ]
     },
     "execution_count": 40,
     "metadata": {},
     "output_type": "execute_result"
    }
   ],
   "source": [
    "len(chunk_tag_np) == result_df.shape[0] == len(chunk_tag_vp)"
   ]
  },
  {
   "cell_type": "code",
   "execution_count": 41,
   "metadata": {},
   "outputs": [],
   "source": [
    "# augment chunk tags with verb phrase tags\n",
    "for i, entry in enumerate(chunk_tag_np):\n",
    "    if entry == \"O\":\n",
    "        chunk_tag_np[i] = chunk_tag_vp[i]"
   ]
  },
  {
   "cell_type": "markdown",
   "metadata": {},
   "source": [
    "There are not prepositional phrases."
   ]
  },
  {
   "cell_type": "code",
   "execution_count": 42,
   "metadata": {},
   "outputs": [],
   "source": [
    "result_df[\"chunk_tag\"] = chunk_tag_np"
   ]
  },
  {
   "cell_type": "code",
   "execution_count": 43,
   "metadata": {},
   "outputs": [],
   "source": [
    "result_df = result_df[['word', 'POS_tag', 'chunk_tag', 'NER_tag']]  # order columns"
   ]
  },
  {
   "cell_type": "code",
   "execution_count": 44,
   "metadata": {},
   "outputs": [
    {
     "data": {
      "text/plain": [
       "(284392, 4)"
      ]
     },
     "execution_count": 44,
     "metadata": {},
     "output_type": "execute_result"
    }
   ],
   "source": [
    "result_df.shape"
   ]
  },
  {
   "cell_type": "code",
   "execution_count": 45,
   "metadata": {},
   "outputs": [
    {
     "data": {
      "text/plain": [
       "word         object\n",
       "POS_tag      object\n",
       "chunk_tag    object\n",
       "NER_tag      object\n",
       "dtype: object"
      ]
     },
     "execution_count": 45,
     "metadata": {},
     "output_type": "execute_result"
    }
   ],
   "source": [
    "result_df[['word', 'POS_tag', 'chunk_tag', 'NER_tag']] = result_df[['word', 'POS_tag', 'chunk_tag', 'NER_tag']].astype(str)\n",
    "result_df.dtypes"
   ]
  },
  {
   "cell_type": "markdown",
   "metadata": {},
   "source": [
    "### Data split"
   ]
  },
  {
   "cell_type": "code",
   "execution_count": 46,
   "metadata": {},
   "outputs": [
    {
     "data": {
      "text/plain": [
       "(284392, 4)"
      ]
     },
     "execution_count": 46,
     "metadata": {},
     "output_type": "execute_result"
    }
   ],
   "source": [
    "result_df.shape"
   ]
  },
  {
   "cell_type": "code",
   "execution_count": 47,
   "metadata": {},
   "outputs": [],
   "source": [
    "result_df = result_df.reindex()"
   ]
  },
  {
   "cell_type": "code",
   "execution_count": 48,
   "metadata": {
    "scrolled": true
   },
   "outputs": [
    {
     "data": {
      "text/plain": [
       "[0,\n",
       " 1276,\n",
       " 2643,\n",
       " 4377,\n",
       " 5908,\n",
       " 6641,\n",
       " 7790,\n",
       " 8795,\n",
       " 10044,\n",
       " 11493,\n",
       " 12234,\n",
       " 13651,\n",
       " 15814,\n",
       " 16598,\n",
       " 17987,\n",
       " 18945,\n",
       " 19969,\n",
       " 20814,\n",
       " 22124,\n",
       " 23270,\n",
       " 24067,\n",
       " 25127,\n",
       " 25872,\n",
       " 26918,\n",
       " 28112,\n",
       " 29608,\n",
       " 30863,\n",
       " 31933,\n",
       " 32876,\n",
       " 33804,\n",
       " 35067,\n",
       " 36257,\n",
       " 37692,\n",
       " 38781,\n",
       " 39728,\n",
       " 42235,\n",
       " 42937,\n",
       " 44387,\n",
       " 45067,\n",
       " 45853,\n",
       " 46997,\n",
       " 47641,\n",
       " 48793,\n",
       " 49514,\n",
       " 50770,\n",
       " 52963,\n",
       " 54158,\n",
       " 55759,\n",
       " 56622,\n",
       " 57067,\n",
       " 57688,\n",
       " 58501,\n",
       " 59638,\n",
       " 60328,\n",
       " 61561,\n",
       " 62266,\n",
       " 64211,\n",
       " 64735,\n",
       " 66068,\n",
       " 66771,\n",
       " 67492,\n",
       " 69643,\n",
       " 70278,\n",
       " 71084,\n",
       " 72363,\n",
       " 73850,\n",
       " 74357,\n",
       " 74675,\n",
       " 75756,\n",
       " 76626,\n",
       " 77338,\n",
       " 77901,\n",
       " 81739,\n",
       " 82858,\n",
       " 83570,\n",
       " 83901,\n",
       " 84881,\n",
       " 85730,\n",
       " 87779,\n",
       " 88506,\n",
       " 89243,\n",
       " 90425,\n",
       " 91868,\n",
       " 92756,\n",
       " 93449,\n",
       " 94095,\n",
       " 95814,\n",
       " 96512,\n",
       " 97348,\n",
       " 98324,\n",
       " 99228,\n",
       " 99851,\n",
       " 101632,\n",
       " 103085,\n",
       " 104494,\n",
       " 105805,\n",
       " 107508,\n",
       " 109360,\n",
       " 110169,\n",
       " 111944,\n",
       " 113394,\n",
       " 114823,\n",
       " 115546,\n",
       " 116563,\n",
       " 118684,\n",
       " 119630,\n",
       " 120330,\n",
       " 120916,\n",
       " 122047,\n",
       " 122868,\n",
       " 123713,\n",
       " 126315,\n",
       " 126903,\n",
       " 128743,\n",
       " 129817,\n",
       " 131868,\n",
       " 133115,\n",
       " 134767,\n",
       " 135926,\n",
       " 137236,\n",
       " 138544,\n",
       " 139778,\n",
       " 141117,\n",
       " 142660,\n",
       " 143661,\n",
       " 144170,\n",
       " 145038,\n",
       " 146009,\n",
       " 146975,\n",
       " 148230,\n",
       " 148432,\n",
       " 149734,\n",
       " 150773,\n",
       " 151698,\n",
       " 153693,\n",
       " 154735,\n",
       " 155510,\n",
       " 157179,\n",
       " 158224,\n",
       " 159503,\n",
       " 160073,\n",
       " 160520,\n",
       " 161175,\n",
       " 162135,\n",
       " 163407,\n",
       " 164628,\n",
       " 166498,\n",
       " 167449,\n",
       " 168337,\n",
       " 169296,\n",
       " 169697,\n",
       " 171862,\n",
       " 173622,\n",
       " 174891,\n",
       " 175822,\n",
       " 177079,\n",
       " 177856,\n",
       " 178376,\n",
       " 179359,\n",
       " 181181,\n",
       " 181675,\n",
       " 183560,\n",
       " 184225,\n",
       " 185251,\n",
       " 186334,\n",
       " 188100,\n",
       " 188981,\n",
       " 189717,\n",
       " 190924,\n",
       " 191913,\n",
       " 193060,\n",
       " 193531,\n",
       " 194514,\n",
       " 196146,\n",
       " 197682,\n",
       " 200410,\n",
       " 202341,\n",
       " 203674,\n",
       " 204295,\n",
       " 205073,\n",
       " 206552,\n",
       " 207502,\n",
       " 208902,\n",
       " 210947,\n",
       " 212625,\n",
       " 213499,\n",
       " 213955,\n",
       " 214767,\n",
       " 216222,\n",
       " 216855,\n",
       " 218649,\n",
       " 219342,\n",
       " 220147,\n",
       " 220611,\n",
       " 221507,\n",
       " 222539,\n",
       " 224362,\n",
       " 225081,\n",
       " 225849,\n",
       " 226710,\n",
       " 227481,\n",
       " 228120,\n",
       " 228982,\n",
       " 230485,\n",
       " 231898,\n",
       " 232774,\n",
       " 233894,\n",
       " 234789,\n",
       " 236480,\n",
       " 236895,\n",
       " 238303,\n",
       " 238705,\n",
       " 240222,\n",
       " 240783,\n",
       " 242191,\n",
       " 243399,\n",
       " 243934,\n",
       " 244612,\n",
       " 245734,\n",
       " 246332,\n",
       " 247426,\n",
       " 248742,\n",
       " 250499,\n",
       " 251426,\n",
       " 252979,\n",
       " 253977,\n",
       " 254747,\n",
       " 256263,\n",
       " 257799,\n",
       " 258725,\n",
       " 259549,\n",
       " 260768,\n",
       " 261301,\n",
       " 261978,\n",
       " 263275,\n",
       " 263789,\n",
       " 265121,\n",
       " 265663,\n",
       " 266398,\n",
       " 267467,\n",
       " 267947,\n",
       " 269505,\n",
       " 272281,\n",
       " 272910,\n",
       " 273596,\n",
       " 275038,\n",
       " 276635,\n",
       " 277664,\n",
       " 280637,\n",
       " 281134,\n",
       " 283139]"
      ]
     },
     "execution_count": 48,
     "metadata": {},
     "output_type": "execute_result"
    }
   ],
   "source": [
    "# find indices of new documents\n",
    "result_df[result_df[\"word\"] == \"-DOCSTART-\"].index.values.tolist()"
   ]
  },
  {
   "cell_type": "code",
   "execution_count": 49,
   "metadata": {},
   "outputs": [],
   "source": [
    "train = 192062  \n",
    "dev = 237618\n",
    "result_train_df = result_df.iloc[:train]\n",
    "result_dev_df = result_df.iloc[train:dev]\n",
    "result_test_df = result_df.iloc[dev:]"
   ]
  },
  {
   "cell_type": "code",
   "execution_count": 50,
   "metadata": {},
   "outputs": [
    {
     "data": {
      "text/html": [
       "<div>\n",
       "<style>\n",
       "    .dataframe thead tr:only-child th {\n",
       "        text-align: right;\n",
       "    }\n",
       "\n",
       "    .dataframe thead th {\n",
       "        text-align: left;\n",
       "    }\n",
       "\n",
       "    .dataframe tbody tr th {\n",
       "        vertical-align: top;\n",
       "    }\n",
       "</style>\n",
       "<table border=\"1\" class=\"dataframe\">\n",
       "  <thead>\n",
       "    <tr style=\"text-align: right;\">\n",
       "      <th></th>\n",
       "      <th>word</th>\n",
       "      <th>POS_tag</th>\n",
       "      <th>chunk_tag</th>\n",
       "      <th>NER_tag</th>\n",
       "    </tr>\n",
       "  </thead>\n",
       "  <tbody>\n",
       "    <tr>\n",
       "      <th>284387</th>\n",
       "      <td>6/10</td>\n",
       "      <td>CD</td>\n",
       "      <td>O</td>\n",
       "      <td>O</td>\n",
       "    </tr>\n",
       "    <tr>\n",
       "      <th>284388</th>\n",
       "      <td>T:</td>\n",
       "      <td>NNP</td>\n",
       "      <td>B-NP</td>\n",
       "      <td>O</td>\n",
       "    </tr>\n",
       "    <tr>\n",
       "      <th>284389</th>\n",
       "      <td>1/22</td>\n",
       "      <td>CD</td>\n",
       "      <td>O</td>\n",
       "      <td>O</td>\n",
       "    </tr>\n",
       "    <tr>\n",
       "      <th>284390</th>\n",
       "      <td>[report_end]</td>\n",
       "      <td>NNP</td>\n",
       "      <td>B-NP</td>\n",
       "      <td>O</td>\n",
       "    </tr>\n",
       "    <tr>\n",
       "      <th>284391</th>\n",
       "      <td>-EMPTYLINE-</td>\n",
       "      <td>NN</td>\n",
       "      <td>I-NP</td>\n",
       "      <td>O</td>\n",
       "    </tr>\n",
       "  </tbody>\n",
       "</table>\n",
       "</div>"
      ],
      "text/plain": [
       "                word POS_tag chunk_tag NER_tag\n",
       "284387          6/10      CD         O       O\n",
       "284388            T:     NNP      B-NP       O\n",
       "284389          1/22      CD         O       O\n",
       "284390  [report_end]     NNP      B-NP       O\n",
       "284391   -EMPTYLINE-      NN      I-NP       O"
      ]
     },
     "execution_count": 50,
     "metadata": {},
     "output_type": "execute_result"
    }
   ],
   "source": [
    "result_test_df.tail()"
   ]
  },
  {
   "cell_type": "code",
   "execution_count": 51,
   "metadata": {},
   "outputs": [
    {
     "name": "stdout",
     "output_type": "stream",
     "text": [
      "train shape  (192062, 4)\n",
      "dev shape  (45556, 4)\n",
      "test shape  (46774, 4)\n"
     ]
    }
   ],
   "source": [
    "print(\"train shape \", result_train_df.shape)\n",
    "print(\"dev shape \", result_dev_df.shape)\n",
    "print(\"test shape \", result_test_df.shape)"
   ]
  },
  {
   "cell_type": "code",
   "execution_count": 52,
   "metadata": {},
   "outputs": [],
   "source": [
    "result_df.to_csv(\"result_df_NER_POS_chunk.csv\")"
   ]
  },
  {
   "cell_type": "markdown",
   "metadata": {},
   "source": [
    "# Write to txt"
   ]
  },
  {
   "cell_type": "code",
   "execution_count": 53,
   "metadata": {},
   "outputs": [],
   "source": [
    "np.savetxt(\"train.txt\", result_train_df.values, fmt=\"%s\")\n",
    "np.savetxt(\"valid.txt\", result_dev_df.values, fmt=\"%s\")\n",
    "np.savetxt(\"test.txt\", result_test_df.values, fmt=\"%s\")"
   ]
  }
 ],
 "metadata": {
  "kernelspec": {
   "display_name": "Python 3",
   "language": "python",
   "name": "python3"
  },
  "language_info": {
   "codemirror_mode": {
    "name": "ipython",
    "version": 3
   },
   "file_extension": ".py",
   "mimetype": "text/x-python",
   "name": "python",
   "nbconvert_exporter": "python",
   "pygments_lexer": "ipython3",
   "version": "3.6.1"
  }
 },
 "nbformat": 4,
 "nbformat_minor": 2
}
